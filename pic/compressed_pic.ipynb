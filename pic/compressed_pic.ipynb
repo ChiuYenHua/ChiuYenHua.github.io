{
 "cells": [
  {
   "cell_type": "code",
   "execution_count": 7,
   "id": "da1b6239",
   "metadata": {},
   "outputs": [
    {
     "name": "stdout",
     "output_type": "stream",
     "text": [
      "0.1\n",
      "0.1\n",
      "0.1\n",
      "0.2\n",
      "0.2\n",
      "0.2\n",
      "0.30000000000000004\n",
      "0.30000000000000004\n",
      "0.30000000000000004\n",
      "0.4\n",
      "0.4\n",
      "0.4\n",
      "0.5\n",
      "0.5\n",
      "0.5\n",
      "0.6\n",
      "0.6\n",
      "0.6\n",
      "0.7000000000000001\n",
      "0.7000000000000001\n",
      "0.7000000000000001\n",
      "0.8\n",
      "0.8\n",
      "0.8\n",
      "0.9\n",
      "0.9\n",
      "0.9\n"
     ]
    }
   ],
   "source": [
    "from PIL import Image\n",
    "import numpy as np\n",
    "\n",
    "def rebuild_img(u, sigma, v, p): #p表示奇異值的百分比\n",
    "    print(p)\n",
    "    m = len(u)\n",
    "    n = len(v)\n",
    "    a = np.zeros((m, n))\n",
    "    \n",
    "    count = (int)(sum(sigma))\n",
    "    curSum = 0\n",
    "    k = 0\n",
    "    while curSum <= count * p:\n",
    "        uk = u[:, k].reshape(m, 1)\n",
    "        vk = v[k].reshape(1, n)\n",
    "        a += sigma[k] * np.dot(uk, vk)\n",
    "        curSum += sigma[k]\n",
    "        k += 1\n",
    "    a[a < 0] = 0\n",
    "    a[a > 255] = 255\n",
    "    #按照最近距離取整數，並設置參數類型爲uint8\n",
    "    return np.rint(a).astype(\"uint8\")\n",
    "    \n",
    "if __name__ == '__main__':\n",
    "    img = Image.open('1.jpeg', 'r')\n",
    "    a = np.array(img)\n",
    "    \n",
    "    for p in np.arange(0.1, 1, 0.1):\n",
    "        u, sigma, v = np.linalg.svd(a[:, :, 0])\n",
    "        R = rebuild_img(u, sigma, v, p)\n",
    "        \n",
    "        u, sigma, v = np.linalg.svd(a[:, :, 1])\n",
    "        G = rebuild_img(u, sigma, v, p)\n",
    "        \n",
    "        u, sigma, v = np.linalg.svd(a[:, :, 2])\n",
    "        B = rebuild_img(u, sigma, v, p)\n",
    "        \n",
    "        I = np.stack((R, G, B), 2)\n",
    "        #保存圖片在img文件夾下\n",
    "        Image.fromarray(I).save(\"/Users/qiuyanhua/Desktop/1.jpg\")"
   ]
  }
 ],
 "metadata": {
  "kernelspec": {
   "display_name": "Python 3 (ipykernel)",
   "language": "python",
   "name": "python3"
  },
  "language_info": {
   "codemirror_mode": {
    "name": "ipython",
    "version": 3
   },
   "file_extension": ".py",
   "mimetype": "text/x-python",
   "name": "python",
   "nbconvert_exporter": "python",
   "pygments_lexer": "ipython3",
   "version": "3.9.7"
  }
 },
 "nbformat": 4,
 "nbformat_minor": 5
}
